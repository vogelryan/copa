{
 "cells": [
  {
   "cell_type": "code",
   "execution_count": 137,
   "metadata": {},
   "outputs": [],
   "source": [
    "#packages used\n",
    "import tensorflow as tf\n",
    "from tensorflow.keras.preprocessing.text import Tokenizer\n",
    "import pandas as pd\n",
    "from tensorflow.keras.layers import Embedding, Bidirectional, LSTM, TimeDistributed, Dense\n",
    "from keras.wrappers.scikit_learn import KerasClassifier\n",
    "from sklearn.model_selection import StratifiedKFold\n",
    "from sklearn.model_selection import cross_val_score\n",
    "from keras.models import Sequential\n",
    "from tensorflow.keras.preprocessing import sequence\n",
    "from tensorflow.keras.optimizers import Adam\n",
    "from tensorflow.keras.losses import BinaryCrossentropy"
   ]
  },
  {
   "cell_type": "code",
   "execution_count": 138,
   "metadata": {},
   "outputs": [],
   "source": [
    "#importing data as pandas data frame\n",
    "DevData = pd.read_json(\"dev.jsonl\", lines = True)\n",
    "TestData = pd.read_json(\"test.jsonl\", lines = True)\n",
    "TrainData = pd.read_json(\"train.jsonl\", lines = True)\n"
   ]
  },
  {
   "cell_type": "code",
   "execution_count": 139,
   "metadata": {},
   "outputs": [
    {
     "data": {
      "text/html": [
       "<div>\n",
       "<style scoped>\n",
       "    .dataframe tbody tr th:only-of-type {\n",
       "        vertical-align: middle;\n",
       "    }\n",
       "\n",
       "    .dataframe tbody tr th {\n",
       "        vertical-align: top;\n",
       "    }\n",
       "\n",
       "    .dataframe thead th {\n",
       "        text-align: right;\n",
       "    }\n",
       "</style>\n",
       "<table border=\"1\" class=\"dataframe\">\n",
       "  <thead>\n",
       "    <tr style=\"text-align: right;\">\n",
       "      <th></th>\n",
       "      <th>premise</th>\n",
       "      <th>choice1</th>\n",
       "      <th>choice2</th>\n",
       "      <th>question</th>\n",
       "      <th>label</th>\n",
       "      <th>idx</th>\n",
       "    </tr>\n",
       "  </thead>\n",
       "  <tbody>\n",
       "    <tr>\n",
       "      <th>0</th>\n",
       "      <td>My body cast a shadow over the grass.</td>\n",
       "      <td>The sun was rising.</td>\n",
       "      <td>The grass was cut.</td>\n",
       "      <td>cause</td>\n",
       "      <td>0</td>\n",
       "      <td>0</td>\n",
       "    </tr>\n",
       "    <tr>\n",
       "      <th>1</th>\n",
       "      <td>The woman tolerated her friend's difficult beh...</td>\n",
       "      <td>The woman knew her friend was going through a ...</td>\n",
       "      <td>The woman felt that her friend took advantage ...</td>\n",
       "      <td>cause</td>\n",
       "      <td>0</td>\n",
       "      <td>1</td>\n",
       "    </tr>\n",
       "    <tr>\n",
       "      <th>2</th>\n",
       "      <td>The women met for coffee.</td>\n",
       "      <td>The cafe reopened in a new location.</td>\n",
       "      <td>They wanted to catch up with each other.</td>\n",
       "      <td>cause</td>\n",
       "      <td>1</td>\n",
       "      <td>2</td>\n",
       "    </tr>\n",
       "    <tr>\n",
       "      <th>3</th>\n",
       "      <td>The runner wore shorts.</td>\n",
       "      <td>The forecast predicted high temperatures.</td>\n",
       "      <td>She planned to run along the beach.</td>\n",
       "      <td>cause</td>\n",
       "      <td>0</td>\n",
       "      <td>3</td>\n",
       "    </tr>\n",
       "    <tr>\n",
       "      <th>4</th>\n",
       "      <td>The guests of the party hid behind the couch.</td>\n",
       "      <td>It was a surprise party.</td>\n",
       "      <td>It was a birthday party.</td>\n",
       "      <td>cause</td>\n",
       "      <td>0</td>\n",
       "      <td>4</td>\n",
       "    </tr>\n",
       "    <tr>\n",
       "      <th>...</th>\n",
       "      <td>...</td>\n",
       "      <td>...</td>\n",
       "      <td>...</td>\n",
       "      <td>...</td>\n",
       "      <td>...</td>\n",
       "      <td>...</td>\n",
       "    </tr>\n",
       "    <tr>\n",
       "      <th>345</th>\n",
       "      <td>The photograph faded.</td>\n",
       "      <td>It was fake.</td>\n",
       "      <td>It was old.</td>\n",
       "      <td>cause</td>\n",
       "      <td>1</td>\n",
       "      <td>345</td>\n",
       "    </tr>\n",
       "    <tr>\n",
       "      <th>346</th>\n",
       "      <td>The boy got a black eye.</td>\n",
       "      <td>The bully mocked the boy.</td>\n",
       "      <td>The bully punched the boy.</td>\n",
       "      <td>cause</td>\n",
       "      <td>1</td>\n",
       "      <td>346</td>\n",
       "    </tr>\n",
       "    <tr>\n",
       "      <th>347</th>\n",
       "      <td>I misplaced my wallet.</td>\n",
       "      <td>I retrieved my phone.</td>\n",
       "      <td>I retraced my steps.</td>\n",
       "      <td>effect</td>\n",
       "      <td>1</td>\n",
       "      <td>347</td>\n",
       "    </tr>\n",
       "    <tr>\n",
       "      <th>348</th>\n",
       "      <td>The hunter ran out of ammunition.</td>\n",
       "      <td>He reloaded the gun.</td>\n",
       "      <td>He aimed at the deer.</td>\n",
       "      <td>effect</td>\n",
       "      <td>0</td>\n",
       "      <td>348</td>\n",
       "    </tr>\n",
       "    <tr>\n",
       "      <th>349</th>\n",
       "      <td>Marine life diminished.</td>\n",
       "      <td>Boats sailed through the ocean.</td>\n",
       "      <td>Oil spilled into the ocean.</td>\n",
       "      <td>cause</td>\n",
       "      <td>1</td>\n",
       "      <td>349</td>\n",
       "    </tr>\n",
       "  </tbody>\n",
       "</table>\n",
       "<p>350 rows × 6 columns</p>\n",
       "</div>"
      ],
      "text/plain": [
       "                                               premise  \\\n",
       "0                My body cast a shadow over the grass.   \n",
       "1    The woman tolerated her friend's difficult beh...   \n",
       "2                            The women met for coffee.   \n",
       "3                              The runner wore shorts.   \n",
       "4        The guests of the party hid behind the couch.   \n",
       "..                                                 ...   \n",
       "345                              The photograph faded.   \n",
       "346                           The boy got a black eye.   \n",
       "347                             I misplaced my wallet.   \n",
       "348                  The hunter ran out of ammunition.   \n",
       "349                            Marine life diminished.   \n",
       "\n",
       "                                               choice1  \\\n",
       "0                                  The sun was rising.   \n",
       "1    The woman knew her friend was going through a ...   \n",
       "2                 The cafe reopened in a new location.   \n",
       "3            The forecast predicted high temperatures.   \n",
       "4                             It was a surprise party.   \n",
       "..                                                 ...   \n",
       "345                                       It was fake.   \n",
       "346                          The bully mocked the boy.   \n",
       "347                              I retrieved my phone.   \n",
       "348                               He reloaded the gun.   \n",
       "349                    Boats sailed through the ocean.   \n",
       "\n",
       "                                               choice2 question  label  idx  \n",
       "0                                   The grass was cut.    cause      0    0  \n",
       "1    The woman felt that her friend took advantage ...    cause      0    1  \n",
       "2             They wanted to catch up with each other.    cause      1    2  \n",
       "3                  She planned to run along the beach.    cause      0    3  \n",
       "4                             It was a birthday party.    cause      0    4  \n",
       "..                                                 ...      ...    ...  ...  \n",
       "345                                        It was old.    cause      1  345  \n",
       "346                         The bully punched the boy.    cause      1  346  \n",
       "347                               I retraced my steps.   effect      1  347  \n",
       "348                              He aimed at the deer.   effect      0  348  \n",
       "349                        Oil spilled into the ocean.    cause      1  349  \n",
       "\n",
       "[350 rows x 6 columns]"
      ]
     },
     "execution_count": 139,
     "metadata": {},
     "output_type": "execute_result"
    }
   ],
   "source": [
    "TrainData"
   ]
  },
  {
   "cell_type": "code",
   "execution_count": 140,
   "metadata": {},
   "outputs": [],
   "source": [
    "#tokenizes test data\n",
    "TrainTok = Tokenizer(lower=True, split=' ',)\n",
    "\n",
    "TrainTok.fit_on_texts(TrainData['choice2'])        \n",
    "TrainTok.fit_on_texts(TrainData['choice1'])\n",
    "TrainTok.fit_on_texts(TrainData['premise'])\n"
   ]
  },
  {
   "cell_type": "code",
   "execution_count": 141,
   "metadata": {},
   "outputs": [
    {
     "name": "stdout",
     "output_type": "stream",
     "text": [
      "there are  1740  unique words\n"
     ]
    }
   ],
   "source": [
    "TrainConfig = TrainTok.get_config()\n",
    "\n",
    "#dictionary of words and indexs\n",
    "TrainVocab = eval(TrainConfig['index_word'])\n",
    "\n",
    "#finds length of vocab\n",
    "TrainVocabSize = len(TrainVocab)\n",
    "\n",
    "print(\"there are \", TrainVocabSize, \" unique words\")"
   ]
  },
  {
   "cell_type": "code",
   "execution_count": 142,
   "metadata": {},
   "outputs": [],
   "source": [
    "PremiseTokTrain = TrainTok.texts_to_sequences(TrainData['premise'])\n",
    "Choice1TokTrain = TrainTok.texts_to_sequences(TrainData['choice1'])\n",
    "Choice2TokTrain = TrainTok.texts_to_sequences(TrainData['choice2'])\n",
    "\n",
    "PremisePadTrain = sequence.pad_sequences(PremiseTokTrain, padding='post', maxlen=max(len(i) for i in PremiseTokTrain))\n",
    "Choice1PadTrain = sequence.pad_sequences(PremiseTokTrain, padding='post', maxlen=max(len(i) for i in Choice1TokTrain))\n",
    "Choice2PadTrain = sequence.pad_sequences(PremiseTokTrain, padding='post', maxlen=max(len(i) for i in Choice2TokTrain))"
   ]
  },
  {
   "cell_type": "code",
   "execution_count": 143,
   "metadata": {},
   "outputs": [],
   "source": [
    "TrainCat = tf.concat([PremisePadTrain, Choice1PadTrain,Choice2PadTrain], 1)\n",
    " "
   ]
  },
  {
   "cell_type": "code",
   "execution_count": 146,
   "metadata": {},
   "outputs": [
    {
     "name": "stdout",
     "output_type": "stream",
     "text": [
      "Model: \"sequential_19\"\n",
      "_________________________________________________________________\n",
      "Layer (type)                 Output Shape              Param #   \n",
      "=================================================================\n",
      "embedding_16 (Embedding)     (None, 35, 64)            111360    \n",
      "_________________________________________________________________\n",
      "lstm_16 (LSTM)               (None, 64)                33024     \n",
      "_________________________________________________________________\n",
      "dense_17 (Dense)             (None, 1)                 65        \n",
      "=================================================================\n",
      "Total params: 144,449\n",
      "Trainable params: 144,449\n",
      "Non-trainable params: 0\n",
      "_________________________________________________________________\n",
      "Epoch 1/5\n"
     ]
    },
    {
     "name": "stderr",
     "output_type": "stream",
     "text": [
      "2021-11-03 11:54:50.227799: I tensorflow/core/grappler/optimizers/custom_graph_optimizer_registry.cc:112] Plugin optimizer for device_type GPU is enabled.\n",
      "2021-11-03 11:54:50.308442: I tensorflow/core/grappler/optimizers/custom_graph_optimizer_registry.cc:112] Plugin optimizer for device_type GPU is enabled.\n",
      "2021-11-03 11:54:50.387962: I tensorflow/core/grappler/optimizers/custom_graph_optimizer_registry.cc:112] Plugin optimizer for device_type GPU is enabled.\n"
     ]
    },
    {
     "name": "stdout",
     "output_type": "stream",
     "text": [
      "9/9 [==============================] - 1s 71ms/step - loss: 0.6938 - accuracy: 0.5036 - val_loss: 0.6928 - val_accuracy: 0.5143\n"
     ]
    },
    {
     "name": "stderr",
     "output_type": "stream",
     "text": [
      "2021-11-03 11:54:50.900751: I tensorflow/core/grappler/optimizers/custom_graph_optimizer_registry.cc:112] Plugin optimizer for device_type GPU is enabled.\n",
      "2021-11-03 11:54:50.933520: I tensorflow/core/grappler/optimizers/custom_graph_optimizer_registry.cc:112] Plugin optimizer for device_type GPU is enabled.\n"
     ]
    },
    {
     "name": "stdout",
     "output_type": "stream",
     "text": [
      "Epoch 2/5\n",
      "9/9 [==============================] - 0s 32ms/step - loss: 0.6935 - accuracy: 0.5036 - val_loss: 0.6928 - val_accuracy: 0.5143\n",
      "Epoch 3/5\n",
      "9/9 [==============================] - 0s 23ms/step - loss: 0.6931 - accuracy: 0.5071 - val_loss: 0.6928 - val_accuracy: 0.5143\n",
      "Epoch 4/5\n",
      "9/9 [==============================] - 0s 23ms/step - loss: 0.6930 - accuracy: 0.5071 - val_loss: 0.6928 - val_accuracy: 0.5143\n",
      "Epoch 5/5\n",
      "9/9 [==============================] - 0s 29ms/step - loss: 0.6931 - accuracy: 0.5107 - val_loss: 0.6928 - val_accuracy: 0.5143\n"
     ]
    }
   ],
   "source": [
    "additional_metrics = ['accuracy']\n",
    "loss_function = BinaryCrossentropy()\n",
    "number_of_epochs = 5\n",
    "optimizer = Adam()\n",
    "validation_split = 0.20\n",
    "verbosity_mode = 1\n",
    "\n",
    "# Define the Keras model\n",
    "model = Sequential()\n",
    "model.add(Embedding(TrainVocabSize, 64, input_length=35))\n",
    "model.add(LSTM(64))\n",
    "model.add(Dense(1, activation='sigmoid'))\n",
    "\n",
    "# Compile the model\n",
    "model.compile(optimizer=optimizer, loss=loss_function, metrics=additional_metrics)\n",
    "\n",
    "# Give a summary\n",
    "model.summary()\n",
    "\n",
    "# Train the model\n",
    "history = model.fit(TrainCat, TrainData['label'], epochs=number_of_epochs, verbose=verbosity_mode, validation_split=validation_split)\n"
   ]
  },
  {
   "cell_type": "code",
   "execution_count": null,
   "metadata": {},
   "outputs": [],
   "source": []
  }
 ],
 "metadata": {
  "interpreter": {
   "hash": "4976e0179d97dd6d59b1329a76e601e17b789c2571b41c8b57f5fd69821c0dd3"
  },
  "kernelspec": {
   "display_name": "Python 3.8.12 64-bit ('mlp': conda)",
   "name": "python3"
  },
  "language_info": {
   "codemirror_mode": {
    "name": "ipython",
    "version": 3
   },
   "file_extension": ".py",
   "mimetype": "text/x-python",
   "name": "python",
   "nbconvert_exporter": "python",
   "pygments_lexer": "ipython3",
   "version": "3.8.12"
  },
  "orig_nbformat": 4
 },
 "nbformat": 4,
 "nbformat_minor": 2
}
